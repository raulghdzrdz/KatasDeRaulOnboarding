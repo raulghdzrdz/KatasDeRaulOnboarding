{
 "cells": [
  {
   "cell_type": "markdown",
   "metadata": {},
   "source": [
    "# Ejercicio 1: Creación de diccionarios de Python"
   ]
  },
  {
   "cell_type": "code",
   "execution_count": 10,
   "metadata": {},
   "outputs": [
    {
     "name": "stdout",
     "output_type": "stream",
     "text": [
      "Mars has 2 moons\n",
      "Mars has a polar circumference of 6752\n"
     ]
    }
   ],
   "source": [
    "planet = {\n",
    "    'name': 'Mars',\n",
    "    'moons': 2\n",
    "}\n",
    "\n",
    "print(f'{planet[\"name\"]} has {planet[\"moons\"]} moons')\n",
    "\n",
    "planet['circumference (km)'] = {\n",
    "    'polar': 6752,\n",
    "    'equatorial': 6792\n",
    "}\n",
    "\n",
    "print(f'{planet[\"name\"]} has a polar circumference of {planet[\"circumference (km)\"][\"polar\"]}')"
   ]
  },
  {
   "cell_type": "markdown",
   "metadata": {},
   "source": [
    "# Ejercicio 2: Programación dinámica con diccionarios"
   ]
  },
  {
   "cell_type": "code",
   "execution_count": 14,
   "metadata": {},
   "outputs": [
    {
     "name": "stdout",
     "output_type": "stream",
     "text": [
      "17.833333333333332\n"
     ]
    }
   ],
   "source": [
    "planet_moons = {\n",
    "    'mercury': 0,\n",
    "    'venus': 0,\n",
    "    'earth': 1,\n",
    "    'mars': 2,\n",
    "    'jupiter': 79,\n",
    "    'saturn': 82,\n",
    "    'uranus': 27,\n",
    "    'neptune': 14,\n",
    "    'pluto': 5,\n",
    "    'haumea': 2,\n",
    "    'makemake': 1,\n",
    "    'eris': 1\n",
    "}\n",
    "moons = planet_moons.values()\n",
    "planets = len(planet_moons.keys())\n",
    "\n",
    "total_moons = 0\n",
    "for moon in moons:\n",
    "    total_moons = total_moons + moon\n",
    "\n",
    "average = total_moons / planets\n",
    "print(average)"
   ]
  }
 ],
 "metadata": {
  "interpreter": {
   "hash": "bfb4883d108fc92ac768439090a2e92bb9a1f760a54beeecfd6762b5dcd70fe3"
  },
  "kernelspec": {
   "display_name": "Python 3.10.2 64-bit",
   "language": "python",
   "name": "python3"
  },
  "language_info": {
   "codemirror_mode": {
    "name": "ipython",
    "version": 3
   },
   "file_extension": ".py",
   "mimetype": "text/x-python",
   "name": "python",
   "nbconvert_exporter": "python",
   "pygments_lexer": "ipython3",
   "version": "3.10.2"
  },
  "orig_nbformat": 4
 },
 "nbformat": 4,
 "nbformat_minor": 2
}
