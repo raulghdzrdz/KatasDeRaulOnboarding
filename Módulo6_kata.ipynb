{
 "cells": [
  {
   "cell_type": "markdown",
   "metadata": {},
   "source": [
    "# introducción a las listas\n"
   ]
  },
  {
   "cell_type": "code",
   "execution_count": 40,
   "metadata": {},
   "outputs": [
    {
     "name": "stdout",
     "output_type": "stream",
     "text": [
      "The first planet is Mercury\n",
      "The second planet is Venus\n",
      "The third planet is Earth\n"
     ]
    }
   ],
   "source": [
    "# asigne una secuencia de valores a una variable, cada valor separado por una coma.\n",
    "\n",
    "planets = ['Mercury', 'Venus','Earth', 'Mars', 'Jupiter', 'Saturn', 'Uranus', 'Neptune']\n",
    "\n",
    "#podemos acceder a cualquier elemento de una lista poniendo el indice, los indices comienzan\n",
    "#en 0:\n",
    "\n",
    "print('The first planet is', planets[0])\n",
    "print('The second planet is',planets[1])\n",
    "print('The third planet is',planets[2])"
   ]
  },
  {
   "cell_type": "code",
   "execution_count": 41,
   "metadata": {},
   "outputs": [
    {
     "name": "stdout",
     "output_type": "stream",
     "text": [
      "Mars is also know as the Red Planet\n"
     ]
    }
   ],
   "source": [
    "planets[3]='Red Planet'\n",
    "print('Mars is also know as the', planets[3])"
   ]
  },
  {
   "cell_type": "markdown",
   "metadata": {},
   "source": [
    "# Determinar la longitud de una lista\n"
   ]
  },
  {
   "cell_type": "code",
   "execution_count": 42,
   "metadata": {},
   "outputs": [
    {
     "name": "stdout",
     "output_type": "stream",
     "text": [
      "There are 8 planets in the solar system.\n"
     ]
    }
   ],
   "source": [
    "number_of_planets = len(planets)\n",
    "print('There are', number_of_planets, 'planets in the solar system.')"
   ]
  },
  {
   "cell_type": "markdown",
   "metadata": {},
   "source": [
    "# Agregar valores a listas"
   ]
  },
  {
   "cell_type": "code",
   "execution_count": 43,
   "metadata": {},
   "outputs": [
    {
     "name": "stdout",
     "output_type": "stream",
     "text": [
      "there are actually 9 planets in the solar system.\n"
     ]
    }
   ],
   "source": [
    "planets.append('Pluto')\n",
    "number_of_planets =len(planets)\n",
    "print('there are actually', number_of_planets,'planets in the solar system.')\n"
   ]
  },
  {
   "cell_type": "markdown",
   "metadata": {},
   "source": [
    "# Eliminar valores de una lista"
   ]
  },
  {
   "cell_type": "code",
   "execution_count": 44,
   "metadata": {},
   "outputs": [
    {
     "name": "stdout",
     "output_type": "stream",
     "text": [
      "No,there are definitely 8 planets in the solar systemn\n"
     ]
    },
    {
     "data": {
      "text/plain": [
       "['Mercury',\n",
       " 'Venus',\n",
       " 'Earth',\n",
       " 'Jupiter',\n",
       " 'Saturn',\n",
       " 'Uranus',\n",
       " 'Neptune',\n",
       " 'Pluto']"
      ]
     },
     "execution_count": 44,
     "metadata": {},
     "output_type": "execute_result"
    }
   ],
   "source": [
    "#eliminar el último elemento de una lista llamando al método .pop()\n",
    "\n",
    "planets.pop(3) #goodbye, Mars\n",
    "\n",
    "number_of_planets=len(planets)\n",
    "print('No,there are definitely', number_of_planets, 'planets in the solar systemn')\n",
    "planets"
   ]
  },
  {
   "cell_type": "markdown",
   "metadata": {},
   "source": [
    "# Ejercicio 1\n"
   ]
  },
  {
   "cell_type": "code",
   "execution_count": 48,
   "metadata": {},
   "outputs": [
    {
     "name": "stdout",
     "output_type": "stream",
     "text": [
      "Existen 8 planetas en el sistem solar\n"
     ]
    }
   ],
   "source": [
    "planets = ['Mercury', 'Venus','Earth', 'Mars', 'Jupiter', 'Saturn', 'Uranus', 'Neptune']\n",
    "number_of_planets = len(planets)\n",
    "\n",
    "print('Existen',number_of_planets,'planetas en el sistem solar')"
   ]
  },
  {
   "cell_type": "markdown",
   "metadata": {},
   "source": [
    "# Ejercicio 2. MOSTRAR PLANETAS MAS CERCANOS Y MAS LEJANDOS\n"
   ]
  },
  {
   "cell_type": "code",
   "execution_count": 55,
   "metadata": {},
   "outputs": [
    {
     "name": "stdout",
     "output_type": "stream",
     "text": [
      "aqui estan los planetas más cercanos que Mars\n",
      "['Mercury', 'Venus', 'Earth']\n",
      "aqui estan los planetas más lejano que Mars\n",
      "['Jupiter', 'Saturn', 'Uranus', 'Neptune', 'Pluton']\n"
     ]
    }
   ],
   "source": [
    "planets = ['Mercury', 'Venus','Earth', 'Mars', 'Jupiter', 'Saturn', 'Uranus', 'Neptune', 'Pluton']\n",
    "\n",
    "#Solicitando el nombre de un planeta:\n",
    "\n",
    "nuevo_planeta = input('ingrese el nombre de su planeta en inglés, primera letra mayuscula')\n",
    "\n",
    "#buscando el planeta en la lista:\n",
    "\n",
    "nuevo_planeta_index = planets.index(nuevo_planeta)\n",
    "\n",
    "print('aqui estan los planetas más cercanos que ' + nuevo_planeta)\n",
    "\n",
    "print(planets[0:nuevo_planeta_index])\n",
    "\n",
    "\n",
    "print('aqui estan los planetas más lejano que ' + nuevo_planeta)\n",
    "\n",
    "print(planets[nuevo_planeta_index + 1:])"
   ]
  }
 ],
 "metadata": {
  "interpreter": {
   "hash": "bfb4883d108fc92ac768439090a2e92bb9a1f760a54beeecfd6762b5dcd70fe3"
  },
  "kernelspec": {
   "display_name": "Python 3.10.2 64-bit",
   "language": "python",
   "name": "python3"
  },
  "language_info": {
   "codemirror_mode": {
    "name": "ipython",
    "version": 3
   },
   "file_extension": ".py",
   "mimetype": "text/x-python",
   "name": "python",
   "nbconvert_exporter": "python",
   "pygments_lexer": "ipython3",
   "version": "3.10.2"
  },
  "orig_nbformat": 4
 },
 "nbformat": 4,
 "nbformat_minor": 2
}
