{
 "cells": [
  {
   "cell_type": "markdown",
   "metadata": {},
   "source": [
    "# Práctica ejercicio 1."
   ]
  },
  {
   "cell_type": "code",
   "execution_count": 7,
   "metadata": {},
   "outputs": [
    {
     "name": "stdout",
     "output_type": "stream",
     "text": [
      "\n",
      "Distancia entre planetas = 628949330 km\n",
      "\n",
      "Distancia entre planetas = 390577533.93 millas\n"
     ]
    }
   ],
   "source": [
    "earth_distance = 149597870\n",
    "jupiter_distance = 778547200\n",
    "\n",
    "distance = jupiter_distance - earth_distance\n",
    "\n",
    "writting = \"\"\"\n",
    "Distancia entre planetas = {distance} km\"\"\"\n",
    "\n",
    "writting2 = \"\"\"\n",
    "Distancia entre planetas = {distance} millas\"\"\"\n",
    "\n",
    "print(writting.format(distance=distance))\n",
    "print(writting2.format(distance=distance*0.621))\n",
    "\n",
    "\n",
    "\n"
   ]
  },
  {
   "cell_type": "markdown",
   "metadata": {},
   "source": [
    "# Ejercicio 2 convierte cadenas en números y usa valores absolutos\n"
   ]
  },
  {
   "cell_type": "code",
   "execution_count": 12,
   "metadata": {},
   "outputs": [
    {
     "name": "stdout",
     "output_type": "stream",
     "text": [
      "\n",
      "Distancia entre planetas = -1 km\n",
      "\n",
      "Distancia entre planetas = -0.621 millas\n"
     ]
    }
   ],
   "source": [
    "planeta1 = input (\"Nombre del primer planeta\")\n",
    "\n",
    "planeta1_distance = input (\"distancia del primer planeta\")\n",
    "\n",
    "planeta2 = input (\"Nombre del segundo planeta\")\n",
    "\n",
    "planeta2_distance = input (\"distancia del segundo planeta\")\n",
    "\n",
    "planeta1_distance = int(planeta1_distance)\n",
    "\n",
    "planeta2_distance = int(planeta2_distance)\n",
    "\n",
    "distancia_km = planeta1_distance - planeta2_distance\n",
    "\n",
    "#print (distancia_entre_planetas_km)\n",
    "\n",
    "#distancia_entre_planetas_mi = distancia_entre_planetas_km * 0.621\n",
    "\n",
    "#print (distancia_entre_planetas_mi)\n",
    "\n",
    "writting = \"\"\"\n",
    "Distancia entre planetas = {distancia_km} km\"\"\"\n",
    "\n",
    "writting2 = \"\"\"\n",
    "Distancia entre planetas = {distancia_km} millas\"\"\"\n",
    "\n",
    "print(writting.format(distancia_km=distancia_km))\n",
    "print(writting2.format(distancia_km=distancia_km*0.621))"
   ]
  }
 ],
 "metadata": {
  "interpreter": {
   "hash": "bfb4883d108fc92ac768439090a2e92bb9a1f760a54beeecfd6762b5dcd70fe3"
  },
  "kernelspec": {
   "display_name": "Python 3.10.2 64-bit",
   "language": "python",
   "name": "python3"
  },
  "language_info": {
   "codemirror_mode": {
    "name": "ipython",
    "version": 3
   },
   "file_extension": ".py",
   "mimetype": "text/x-python",
   "name": "python",
   "nbconvert_exporter": "python",
   "pygments_lexer": "ipython3",
   "version": "3.10.2"
  },
  "orig_nbformat": 4
 },
 "nbformat": 4,
 "nbformat_minor": 2
}
