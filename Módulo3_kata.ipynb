{
 "cells": [
  {
   "cell_type": "code",
   "execution_count": 4,
   "metadata": {},
   "outputs": [
    {
     "name": "stdout",
     "output_type": "stream",
     "text": [
      "no hay falla\n"
     ]
    }
   ],
   "source": [
    "speedlimit = 25\n",
    "\n",
    "watchlimit = 20\n",
    "\n",
    "currentSpeed = 19\n",
    "\n",
    "\n",
    "if currentSpeed > speedlimit:\n",
    "    print(\"salvese quien pueda!\")\n",
    "elif currentSpeed > watchlimit:\n",
    "    print(\"asteroide en el cielo\")\n",
    "else:\n",
    "    print(\"no hay falla\")"
   ]
  },
  {
   "cell_type": "code",
   "execution_count": 19,
   "metadata": {},
   "outputs": [
    {
     "name": "stdout",
     "output_type": "stream",
     "text": [
      "no hay falla\n"
     ]
    }
   ],
   "source": [
    "speedlimit = 25 #arriba de 25 produce daño\n",
    "\n",
    "watchlimit = 20 #arriba de 20 se ve en el cielo\n",
    "\n",
    "lowestsize =25 #abajo de 25 no son peligrosos, arriba de 25 hasta 1000 son peligrosos\n",
    "biggestsize=1000\n",
    "\n",
    "currentSpeed = 19\n",
    "currentSize = 18\n",
    "\n",
    "\n",
    "if currentSpeed > speedlimit or currentSize > 25:\n",
    "    print(\"salvese quien pueda!\")\n",
    "elif currentSpeed > watchlimit or currentSize < 25 and currentSize > 20:\n",
    "    print(\"Miren arriba!, asteroide en el cielo\")\n",
    "else:\n",
    "    print(\"no hay falla\")"
   ]
  }
 ],
 "metadata": {
  "interpreter": {
   "hash": "bfb4883d108fc92ac768439090a2e92bb9a1f760a54beeecfd6762b5dcd70fe3"
  },
  "kernelspec": {
   "display_name": "Python 3.10.2 64-bit",
   "language": "python",
   "name": "python3"
  },
  "language_info": {
   "codemirror_mode": {
    "name": "ipython",
    "version": 3
   },
   "file_extension": ".py",
   "mimetype": "text/x-python",
   "name": "python",
   "nbconvert_exporter": "python",
   "pygments_lexer": "ipython3",
   "version": "3.10.2"
  },
  "orig_nbformat": 4
 },
 "nbformat": 4,
 "nbformat_minor": 2
}
